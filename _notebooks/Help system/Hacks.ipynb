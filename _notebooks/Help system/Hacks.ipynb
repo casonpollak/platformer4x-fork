{
 "cells": [
  {
   "cell_type": "raw",
   "metadata": {
    "vscode": {
     "languageId": "raw"
    }
   },
   "source": [
    "---\n",
    "comments: true\n",
    "layout: post\n",
    "title: Hacks to platforms in Platformer4x\n",
    "categories: [Platforms]\n",
    "description: \n",
    "permalink: \n",
    "type: ccc\n",
    "author: Avantika Chittari\n",
    "---"
   ]
  },
  {
   "cell_type": "markdown",
   "metadata": {},
   "source": [
    "<style>\n",
    "  h1 {\n",
    "    animation: glow 1s ease-in-out infinite alternate;\n",
    "    font-size: 3em; /* Increased font size */\n",
    "  }\n",
    "</style>\n",
    "<h1>\n",
    "  Hacks to platforms in Platformer 4x\n",
    "</h1>\n",
    "<style>\n",
    "@keyframes glow {\n",
    "  from {\n",
    "    text-shadow: 0 0 5px #fff, 0 0 10px #f0f, 0 0 15px #f0f, 0 0 20px #f0f; /* Changed color to pink (#f0f) */\n",
    "  }\n",
    "  to {\n",
    "    text-shadow: 0 0 20px #f0f, 0 0 30px #f0f, 0 0 40px #f0f, 0 0 50px #f0f; /* Changed color to pink (#f0f) */\n",
    "  }\n",
    "}\n",
    "</style>\n",
    "\n",
    "<h5><span style=“; color:#FFC0CB”>Collaborate with Lara to develop the code for a better game project. Brainstorm ideas and features to enhance the game.\n",
    "\n",
    "Ideas to incorporate\n",
    "\n",
    "- Visualization: Use dynamic visuals to improve the user interface and bring the game environment to life.\n",
    "- Platform Trackers: Elements to track player progress across platforms and different levels.\n",
    "- Power-Up Coins: Add collectible items that provide unique abilities or boosts to the player.\n",
    "- Hidden Features: Adding surprises like secret paths and hidden objects.\n",
    "- Mystery Boxes: Introduce boxes that offer randomized rewards or challenges when interacted with.\n",
    "- Slow-Motion Effects: For specific movements like dodging obstacles or performing special actions.\n",
    "- Interactive Platforms: Include levers/switches to unlock new areas or activate special mechanisms.\n",
    "- Customizable Characters: Allow players to change.\n",
    "- Sound Effects and Music: Changing the audio to different sounds."
   ]
  },
  {
   "cell_type": "markdown",
   "metadata": {},
   "source": [
    "Visualization:\n",
    "\n",
    "Changes can be performed at ```assets/js/platformer3x/GameSetterWater.js```"
   ]
  },
  {
   "cell_type": "code",
   "execution_count": null,
   "metadata": {
    "vscode": {
     "languageId": "javascript"
    }
   },
   "outputs": [],
   "source": [
    "platforms: {\n",
    "      sand: { src: \"/images/platformer/platforms/sand.png\" }, // This is where you would go to change it\n",
    "      sandblock: {src:\"/images/platformer/platforms/sandblock.png\"},\n",
    "      block: { src: \"/images/platformer/platforms/brick_block.png\" }, \n",
    "      itemBlock: {\n",
    "        src: \"/images/platformer/platforms/mario_block_spritesheet_v2.png\",\n",
    "        sizeRatio: 83.2,\n",
    "        widthRatio: 0.5,\n",
    "        heightRatio: 1.0,\n",
    "        width: 204,\n",
    "        height: 204,\n",
    "        scaleSize: 80,\n",
    "        speedRatio: 0.7,\n",
    "        hitbox: { widthPercentage: 0.4, heightPercentage: -0.2 }\n",
    "      }\n",
    "    },\n",
    "    //In the code above you can see where you have to go to change the images to make the game environment look better.\n",
    "    // However if we run this code now it will not work it is just here to showcase what it looks like."
   ]
  },
  {
   "cell_type": "markdown",
   "metadata": {},
   "source": [
    "Platform Tracker:\n",
    "\n",
    "Use ```LocalStorage``` to save or load tracker information to or from local storage. ```LocalStorage``` implementation can be found at ```assets/js/platformer3x/LocalStorage.js```"
   ]
  },
  {
   "cell_type": "code",
   "execution_count": null,
   "metadata": {
    "vscode": {
     "languageId": "javascript"
    }
   },
   "outputs": [],
   "source": [
    "export class GameEnv {\n",
    "\n",
    "\n",
    "    static timerActive = false;\n",
    "    static timerInterval = 10;\n",
    "    static coinScore = 0;\n",
    "\n",
    "    // Add new platform tracker here\n",
    "    // static <tracker name> = <default value>\n",
    "\n",
    "    \n",
    "    // Make the constructor throws an error, or effectively make it a private constructor.\n",
    "    constructor() {\n",
    "        throw new Error('GameEnv is a static class and cannot be instantiated.');\n",
    "    }\n"
   ]
  },
  {
   "cell_type": "markdown",
   "metadata": {},
   "source": [
    "Power-Up: \n",
    "\n",
    "We will implement a new GameObject on player collusion with game object, we will boost player speed ratio."
   ]
  },
  {
   "cell_type": "code",
   "execution_count": null,
   "metadata": {
    "vscode": {
     "languageId": "javascript"
    }
   },
   "outputs": [],
   "source": [
    "//GameSetter.js\n",
    "players: {\n",
    "    mario: {\n",
    "      src: \"/images/platformer/sprites/mario.png\",\n",
    "      width: 256,\n",
    "      height: 256,\n",
    "      scaleSize: 80,\n",
    "      speedRatio: 0.7, // This is the setter for the initial game,\n",
    "      //based on what happens in the game the  speedRatio needs to be updated\n",
    "    }\n",
    "  }\n",
    "\n",
    "//PlatformJump.js\n",
    "  collisionAction() {\n",
    "    //On collusion with PlatformJump game object update player speed ratio\n",
    "  }"
   ]
  }
 ],
 "metadata": {
  "language_info": {
   "name": "python"
  }
 },
 "nbformat": 4,
 "nbformat_minor": 2
}
