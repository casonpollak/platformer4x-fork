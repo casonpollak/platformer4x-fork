{
 "cells": [
  {
   "cell_type": "raw",
   "metadata": {
    "vscode": {
     "languageId": "raw"
    }
   },
   "source": [
    "---\n",
    "comments: true\n",
    "layout: post\n",
    "title: CSP Period 4 Unit 3.7.2 Nested Conditionals Javascript Lesson\n",
    "categories: [Platforms]\n",
    "description: \n",
    "permalink: \n",
    "type: ccc\n",
    "author: Avantika Chittari\n",
    "---"
   ]
  },
  {
   "cell_type": "markdown",
   "metadata": {},
   "source": [
    "<style>\n",
    "  h1 {\n",
    "    animation: glow 1s ease-in-out infinite alternate;\n",
    "    font-size: 3em; /* Increased font size */\n",
    "  }\n",
    "</style>\n",
    "<h1>\n",
    "  Hacks to platforms in Platformer 4x\n",
    "</h1>\n",
    "<style>\n",
    "@keyframes glow {\n",
    "  from {\n",
    "    text-shadow: 0 0 5px #fff, 0 0 10px #f0f, 0 0 15px #f0f, 0 0 20px #f0f; /* Changed color to pink (#f0f) */\n",
    "  }\n",
    "  to {\n",
    "    text-shadow: 0 0 20px #f0f, 0 0 30px #f0f, 0 0 40px #f0f, 0 0 50px #f0f; /* Changed color to pink (#f0f) */\n",
    "  }\n",
    "}\n",
    "</style>\n",
    "\n",
    "<h5><span style=“; color:#FFC0CB”>Collaborate with Lara to develop the code for a better game project. Brainstorm ideas and features to enhance the game.\n",
    "\n",
    "Ideas to incorporate\n",
    "\n",
    "- Visualization: Use dynamic visuals to improve the user interface and bring the game environment to life.\n",
    "- Design: Creating cohesive themes and character styles\n",
    "- Platform Trackers: Elements to track player progress across platforms and different levels.\n",
    "- Power-Up Coins: Add collectible items that provide unique abilities or boosts to the player.\n",
    "- Hidden Features: Adding surprises like secret paths and hidden objects.\n",
    "- Mystery Boxes: Introduce boxes that offer randomized rewards or challenges when interacted with.\n",
    "- Slow-Motion Effects: For specific movements like dodging obstacles or performing special actions.\n",
    "- Interactive Platforms: Include levers/switches to unlock new areas or activate special mechanisms.\n",
    "- Customizable Characters: Allow players to change.\n",
    "- Sound Effects and Music: Changing the audio to different sounds."
   ]
  }
 ],
 "metadata": {
  "language_info": {
   "name": "python"
  }
 },
 "nbformat": 4,
 "nbformat_minor": 2
}
