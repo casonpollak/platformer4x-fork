{
 "cells": [
  {
   "cell_type": "code",
   "execution_count": null,
   "metadata": {
    "vscode": {
     "languageId": "yaml"
    }
   },
   "outputs": [],
   "source": [
    "---\n",
    "author: Lucas Masterson\n",
    "layout: post\n",
    "title: Local Storage Landing Page\n",
    "description: Landing page for the Local Storage section\n",
    "permalink: /local-storage/landing/\n",
    "menu: nav/local_storage.html\n",
    "categories: [Local Storage]\n",
    "toc: true\n",
    "---"
   ]
  },
  {
   "cell_type": "markdown",
   "metadata": {},
   "source": [
    "# Welcome to Local Storage!\n",
    "\n",
    "<img src=\"https://media1.tenor.com/m/Mle3dtAOrfEAAAAd/cat-keyboard.gif\" alt=\"welcome\" width=\"200\">"
   ]
  },
  {
   "cell_type": "markdown",
   "metadata": {},
   "source": [
    "# Ideation for Local Storage \n",
    "\n",
    "## Ideas for implementing local storage:\n",
    "\n",
    "### Saving current progress in-game\n",
    "\n",
    "Essentially, when you reset you will stay on the same level that you left on at, instead of having to go back to the beginning and choose the level again.\n",
    "\n",
    "Main way to achieve this would be to create some subroutine in the `GameControl.js` file that saves the current  level index when transitioning levels via the `async transitionToLevel(newLevel)` method. You can just append this to a key in local storage then retrieve this in `GameSetup.js` to load the level index (you might need to do some parsing in this).\n",
    "\n",
    "\n",
    "### Preferences QoL\n",
    "\n",
    "Another idea that we had planned is to save the player's preferences (all the settings that you can input, like game speed and difficulty, etc) with local storage as well.\n",
    "\n",
    "Main way to achieve this is similar to that of the p reference lock for fun facts under `SettingsControl.js`. All settings are saved there, and you can refer to the code for locking fun facts:\n",
    "\n",
    "```js\n",
    "hintsButton() {\n",
    "        const container = document.createElement(\"div\")\n",
    "        const title = document.createElement(\"span\")\n",
    "        title.textContent = \"Show Hints: \"\n",
    "        const hintsButton = document.createElement(\"input\");\n",
    "        hintsButton.type = \"checkbox\";\n",
    "\n",
    "        // Reference the hints section\n",
    "        const hints = document.getElementsByClassName(\"fun_facts\")[0];\n",
    "\n",
    "        // Check localStorage for existing funFact state and set the initial state\n",
    "        const localStorageFunFact = window.localStorage.getItem('funFact');\n",
    "\n",
    "        if (localStorageFunFact !== null) {\n",
    "            GameEnv.funFact = localStorageFunFact.toLowerCase() === \"true\";\n",
    "        } else {\n",
    "            // Default value if nothing is found in localStorage\n",
    "            // Default is to disable fun facts\n",
    "            GameEnv.funFact = false;\n",
    "        }\n",
    "\n",
    "        // Set the initial state of hints and the checkbox based on GameEnv.funFact\n",
    "        if (GameEnv.funFact) {\n",
    "            hints.style.display = \"unset\";\n",
    "            hintsButton.checked = true;\n",
    "        } else {\n",
    "            hints.style.display = \"none\";\n",
    "            hintsButton.checked = false;\n",
    "        }\n",
    "\n",
    "        // Add event listener to the button to update display and localStorage\n",
    "        hintsButton.addEventListener(\"click\", () => {\n",
    "            if (!hintsButton.checked) {\n",
    "                hints.style.display = \"none\";\n",
    "                GameEnv.funFact = false;\n",
    "            } else {\n",
    "                hints.style.display = \"unset\";\n",
    "                GameEnv.funFact = true;\n",
    "            }\n",
    "\n",
    "            localStorage.setItem('funFact', GameEnv.funFact);\n",
    "        });\n",
    "                    \n",
    "        container.append(title)\n",
    "        container.append(hintsButton)\n",
    "\n",
    "        return container\n",
    "    },\n",
    "```\n"
   ]
  }
 ],
 "metadata": {
  "language_info": {
   "name": "python"
  }
 },
 "nbformat": 4,
 "nbformat_minor": 2
}
